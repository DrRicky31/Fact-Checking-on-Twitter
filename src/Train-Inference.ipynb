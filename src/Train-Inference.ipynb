{
 "cells": [
  {
   "cell_type": "markdown",
   "id": "0ca2ac08",
   "metadata": {
    "id": "0ca2ac08"
   },
   "source": [
    "# Train and Inference"
   ]
  },
  {
   "cell_type": "code",
   "execution_count": 3,
   "id": "6469d3e8",
   "metadata": {
    "colab": {
     "base_uri": "https://localhost:8080/"
    },
    "executionInfo": {
     "elapsed": 3349,
     "status": "ok",
     "timestamp": 1718796782828,
     "user": {
      "displayName": "Riccardo Felici",
      "userId": "03523362669432416892"
     },
     "user_tz": -120
    },
    "id": "6469d3e8",
    "outputId": "d37e898e-4749-4f9e-841a-450ec3e422f6"
   },
   "outputs": [
    {
     "data": {
      "text/plain": [
       "True"
      ]
     },
     "execution_count": 3,
     "metadata": {},
     "output_type": "execute_result"
    }
   ],
   "source": [
    "import torch\n",
    "torch.cuda.is_available()"
   ]
  },
  {
   "cell_type": "code",
   "execution_count": 4,
   "id": "17630718",
   "metadata": {
    "id": "17630718"
   },
   "outputs": [],
   "source": [
    "import pandas as pd\n",
    "import numpy as np\n",
    "import re\n",
    "import json\n",
    "from tqdm import tqdm, trange\n",
    "\n",
    "import matplotlib.pyplot as plt\n",
    "import seaborn as sns"
   ]
  },
  {
   "cell_type": "code",
   "execution_count": 5,
   "id": "3f5549e0",
   "metadata": {
    "id": "3f5549e0"
   },
   "outputs": [],
   "source": [
    "from sklearn.model_selection import StratifiedKFold\n",
    "skf = StratifiedKFold(n_splits=5)\n"
   ]
  },
  {
   "cell_type": "code",
   "execution_count": 6,
   "id": "0fcb18d4",
   "metadata": {
    "id": "0fcb18d4"
   },
   "outputs": [],
   "source": [
    "# change matplotlib parameters\n",
    "plt.rcParams['figure.figsize'] = [15, 10]\n",
    "plt.rcParams.update({'font.size': 30})"
   ]
  },
  {
   "cell_type": "markdown",
   "id": "2ceab410",
   "metadata": {
    "id": "2ceab410"
   },
   "source": [
    "# Training"
   ]
  },
  {
   "cell_type": "markdown",
   "id": "e89834b1",
   "metadata": {
    "id": "e89834b1"
   },
   "source": [
    "## Imports"
   ]
  },
  {
   "cell_type": "code",
   "execution_count": 7,
   "id": "527a748f",
   "metadata": {
    "id": "527a748f"
   },
   "outputs": [],
   "source": [
    "import numpy as np\n",
    "import pandas as pd\n",
    "from collections import deque\n",
    "import random\n",
    "import copy\n",
    "import os\n",
    "\n",
    "import pandas as pd\n",
    "import numpy as np\n",
    "import re\n",
    "import json\n",
    "from tqdm import tqdm, trange\n",
    "\n",
    "import matplotlib.pyplot as plt\n",
    "import seaborn as sns\n",
    "\n",
    "import torch\n",
    "import sklearn.metrics as metrics\n",
    "from sklearn.model_selection import train_test_split\n",
    "from sklearn.feature_extraction.text import TfidfVectorizer\n",
    "import torch.nn as nn\n",
    "from torch.utils.data import TensorDataset, DataLoader, RandomSampler, SequentialSampler\n",
    "from transformers import BertForPreTraining, BertModel, AutoTokenizer, BertForSequenceClassification, RobertaForSequenceClassification\n",
    "from torch.optim.lr_scheduler import ReduceLROnPlateau\n",
    "from torch.optim import AdamW\n",
    "\n",
    "from tqdm.notebook import tqdm, trange\n",
    "\n",
    "#import emoji\n",
    "from nltk.corpus import stopwords\n",
    "\n",
    "random_seed = 0\n",
    "torch.manual_seed(random_seed)\n",
    "random.seed(random_seed)\n",
    "np.random.seed(random_seed)"
   ]
  },
  {
   "cell_type": "markdown",
   "id": "2137e1b7",
   "metadata": {
    "id": "2137e1b7"
   },
   "source": [
    "## Flags"
   ]
  },
  {
   "cell_type": "code",
   "execution_count": 8,
   "id": "70bd0143",
   "metadata": {
    "id": "70bd0143"
   },
   "outputs": [],
   "source": [
    "normalize_test_flag = True\n",
    "\n",
    "# fold\n",
    "k=0"
   ]
  },
  {
   "cell_type": "markdown",
   "id": "683c4c2f",
   "metadata": {
    "id": "683c4c2f"
   },
   "source": [
    "## Utils"
   ]
  },
  {
   "cell_type": "code",
   "execution_count": 9,
   "id": "67ee0669",
   "metadata": {
    "id": "67ee0669"
   },
   "outputs": [],
   "source": [
    "import re\n",
    "\n",
    "def normalize_text(tweets):\n",
    "    # Filtra solo i tweet che sono di tipo stringa\n",
    "    tweets = [text for text in tweets if isinstance(text, str)]\n",
    "\n",
    "    normalized_tweets = []\n",
    "    for text in tweets:\n",
    "        text = text.replace('&amp;', '&')\n",
    "        text = text.replace('\\xa0', '')\n",
    "        text = re.sub(r'http\\S+', '', text)\n",
    "        text = \" \".join(text.split())\n",
    "        normalized_tweets.append(text)\n",
    "\n",
    "    return normalized_tweets\n"
   ]
  },
  {
   "cell_type": "markdown",
   "id": "f63a8b42",
   "metadata": {
    "id": "f63a8b42"
   },
   "source": [
    "## Load data"
   ]
  },
  {
   "cell_type": "code",
   "execution_count": 10,
   "id": "f7716fd2",
   "metadata": {
    "colab": {
     "base_uri": "https://localhost:8080/",
     "height": 35
    },
    "executionInfo": {
     "elapsed": 19,
     "status": "ok",
     "timestamp": 1718796787289,
     "user": {
      "displayName": "Riccardo Felici",
      "userId": "03523362669432416892"
     },
     "user_tz": -120
    },
    "id": "f7716fd2",
    "outputId": "80461c00-b6d6-4d9d-f536-f0a229610e02"
   },
   "outputs": [
    {
     "data": {
      "text/plain": [
       "'NVIDIA A30'"
      ]
     },
     "execution_count": 10,
     "metadata": {},
     "output_type": "execute_result"
    }
   ],
   "source": [
    "device = torch.device(\"cuda\" if torch.cuda.is_available() else \"cpu\")\n",
    "n_gpu = torch.cuda.device_count()\n",
    "torch.cuda.get_device_name(0)"
   ]
  },
  {
   "cell_type": "code",
   "execution_count": 11,
   "id": "f413dffc",
   "metadata": {
    "colab": {
     "base_uri": "https://localhost:8080/"
    },
    "executionInfo": {
     "elapsed": 8864,
     "status": "ok",
     "timestamp": 1718796796135,
     "user": {
      "displayName": "Riccardo Felici",
      "userId": "03523362669432416892"
     },
     "user_tz": -120
    },
    "id": "f413dffc",
    "outputId": "2a0eb0d7-92c3-434f-a00b-3ed81b6db204"
   },
   "outputs": [
    {
     "name": "stdout",
     "output_type": "stream",
     "text": [
      "0         I went to Homegoods to get a table runner and ...\n",
      "1         The education of the masses, which should begi...\n",
      "2         #SciFiSunday: Interview With Fantasy Writer Ab...\n",
      "3         \"The original purpose of the plantation was to...\n",
      "4         Begging for her back R&amp;B &gt; Fuck that bi...\n",
      "                                ...                        \n",
      "324507    ОЛИГАРХИ НАЦЕЛИЛИСЬ НА ВОЙНУ ПРОТИВ \"АРМАТЫ\". ...\n",
      "324508    Экспертов из США напугал российский модернизир...\n",
      "324509      https://t.co/952GHZHYAk https://t.co/HVNrMQIin7\n",
      "324510      https://t.co/VO4pyKGtcU https://t.co/Z1g9ievZog\n",
      "324511    Додон о курсе Молдавии на присоединение к ЕврА...\n",
      "Name: content, Length: 759299, dtype: object\n"
     ]
    }
   ],
   "source": [
    "#data_path = '../data/covid-latent/'\n",
    "#data_path = '../data/covid-latent/undersampling/'\n",
    "#data_path = '../data/stance-detection-in-covid-19-tweets/stay_at_home_orders/' #face_masks, school_closures, stay_at_home_orders, fauci\n",
    "data_path = '../data/russian-troll-tweets/'\n",
    "#data_path = '../data/COVIDSenti/'\n",
    "#data_path = '../data/birdwatch/'\n",
    "#data_path = '../data/mediaeval22/old_task1/'\n",
    "\n",
    "filelist = os.listdir(data_path)\n",
    "\n",
    "# Prendi solo i primi tre file\n",
    "filelist_subset = filelist[:3]\n",
    "\n",
    "# Leggi i primi tre file in dataframe\n",
    "df_list = [pd.read_csv(data_path + file) for file in filelist_subset]\n",
    "\n",
    "test_df = df_list[k]\n",
    "\n",
    "train_df = pd.concat(df_list[:k]+df_list[k+1:])\n",
    "test_df = pd.concat([train_df, test_df])\n",
    "\n",
    "\n",
    "#tw_train = train_df['tweet'].tolist()\n",
    "#tw_test = test_df['tweet'].tolist()\n",
    "\n",
    "tw_train = train_df['content']\n",
    "tw_test = test_df['content']\n",
    "# ids_test = test_df['tweet'].tolist()\n",
    "\n",
    "print(tw_test)\n",
    "\n",
    "if normalize_test_flag:\n",
    "    tw_train = normalize_text(tw_train)\n",
    "    tw_test = normalize_text(tw_test)\n",
    "\n",
    "#emotion\n",
    "#train_df['emotion'][train_df['emotion'].isna()]='N'\n",
    "#labels_train = train_df['emotion'].to_numpy()\n",
    "#labels_train[labels_train=='N']=0\n",
    "#labels_train[labels_train=='H']=1\n",
    "#labels_train[labels_train=='A']=2\n",
    "#labels_train[labels_train=='S']=3\n",
    "#labels_train[labels_train=='F']=4\n",
    "#labels_train = labels_train.tolist()\n",
    "\n",
    "#sentiment\n",
    "#labels_train = train_df['label'].to_numpy()\n",
    "#labels_train[labels_train=='neu']=1\n",
    "#labels_train[labels_train=='pos']=2\n",
    "#labels_train[labels_train=='neg']=0\n",
    "#labels_train = labels_train.tolist()\n",
    "\n",
    "#political bias\n",
    "labels_train = train_df['account_category'].to_numpy()\n",
    "labels_train[labels_train==\"Unknown\"]=1\n",
    "labels_train[labels_train==\"NonEnglish\"]=1\n",
    "labels_train[labels_train==\"Commercial\"]=1\n",
    "labels_train[labels_train==\"NewsFeed\"]=1\n",
    "labels_train[labels_train==\"HashtagGamer\"]=1\n",
    "labels_train[labels_train==\"Fearmonger\"]=1\n",
    "labels_train[labels_train==\"LeftTroll\"]=0\n",
    "labels_train[labels_train==\"RightTroll\"]=2\n",
    "labels_train = labels_train.tolist()\n",
    "\n",
    "#emotion\n",
    "#test_df['emotion'][test_df['emotion'].isna()]='N'\n",
    "#labels_test = test_df['emotion'].to_numpy()\n",
    "#labels_test[labels_test=='N']=0\n",
    "#labels_test[labels_test=='H']=1\n",
    "#labels_test[labels_test=='A']=2\n",
    "#labels_test[labels_test=='S']=3\n",
    "#labels_test[labels_test=='F']=4\n",
    "#labels_test = labels_test.tolist()\n",
    "\n",
    "#sentiment\n",
    "# labels_test = test_df['label'].to_numpy()\n",
    "# labels_test[labels_test=='neu']=1\n",
    "# labels_test[labels_test=='pos']=2\n",
    "# labels_test[labels_test=='neg']=0\n",
    "# labels_test = labels_test.tolist()\n",
    "\n",
    "#political bias\n",
    "labels_test = test_df['account_category'].to_numpy()\n",
    "labels_test[labels_test==\"Unknown\"]=1\n",
    "labels_test[labels_test==\"NonEnglish\"]=1\n",
    "labels_test[labels_test==\"Commercial\"]=1\n",
    "labels_test[labels_test==\"NewsFeed\"]=1\n",
    "labels_test[labels_test==\"HashtagGamer\"]=1\n",
    "labels_test[labels_test==\"Fearmonger\"]=1\n",
    "labels_test[labels_test==\"LeftTroll\"]=0\n",
    "labels_test[labels_test==\"RightTroll\"]=2\n",
    "labels_test = labels_test.tolist()\n",
    "\n",
    "ids_test = [i for i in range(0, len(test_df))]\n",
    "\n",
    "#labels_train = [[l-1 for l in L] for L in labels_train]\n",
    "#labels_test = [[l-1 for l in L] for L in labels_test]\n"
   ]
  },
  {
   "cell_type": "code",
   "execution_count": 12,
   "id": "5f57cca3",
   "metadata": {
    "colab": {
     "base_uri": "https://localhost:8080/"
    },
    "executionInfo": {
     "elapsed": 428,
     "status": "ok",
     "timestamp": 1718796796561,
     "user": {
      "displayName": "Riccardo Felici",
      "userId": "03523362669432416892"
     },
     "user_tz": -120
    },
    "id": "5f57cca3",
    "outputId": "b5f52575-41bc-4d4a-9f89-d3c687bea34c",
    "scrolled": true
   },
   "outputs": [
    {
     "data": {
      "text/plain": [
       "tensor([6.0854, 1.9626, 3.0661], device='cuda:0')"
      ]
     },
     "execution_count": 12,
     "metadata": {},
     "output_type": "execute_result"
    }
   ],
   "source": [
    "weights = [len(labels_train)/w for w in [labels_train.count(a) for a in range(0, 3)]]\n",
    "weights = torch.FloatTensor(weights).to(device)\n",
    "weights"
   ]
  },
  {
   "cell_type": "code",
   "execution_count": 13,
   "id": "a815a051",
   "metadata": {
    "colab": {
     "base_uri": "https://localhost:8080/"
    },
    "executionInfo": {
     "elapsed": 36778,
     "status": "ok",
     "timestamp": 1718796833338,
     "user": {
      "displayName": "Riccardo Felici",
      "userId": "03523362669432416892"
     },
     "user_tz": -120
    },
    "id": "a815a051",
    "outputId": "f213019d-5223-4007-cbdb-350fd8622506"
   },
   "outputs": [
    {
     "data": {
      "text/plain": [
       "341"
      ]
     },
     "execution_count": 13,
     "metadata": {},
     "output_type": "execute_result"
    }
   ],
   "source": [
    "tokenizer = AutoTokenizer.from_pretrained('digitalepidemiologylab/covid-twitter-bert')\n",
    "\n",
    "tokenized_input = tokenizer(tw_train)\n",
    "\n",
    "m = 0\n",
    "for tokens in tokenized_input['input_ids']:\n",
    "    if len(tokens)>m:\n",
    "        m=len(tokens)\n",
    "m"
   ]
  },
  {
   "cell_type": "code",
   "execution_count": 14,
   "id": "2b1987e8-1784-4bf7-93f1-6e71211dce0d",
   "metadata": {
    "id": "633285bc"
   },
   "outputs": [],
   "source": [
    "# Imposta il massimo numero di token per ogni input\n",
    "MAX_LEN = 64\n",
    "\n",
    "# Tokenizza i dati in batch più piccoli per risparmiare memoria\n",
    "def batch_tokenize(texts, tokenizer, batch_size=100, max_length=MAX_LEN):\n",
    "    input_ids = []\n",
    "    token_type_ids = []\n",
    "    attention_masks = []\n",
    "\n",
    "    for i in range(0, len(texts), batch_size):\n",
    "        batch_texts = texts[i:i+batch_size]\n",
    "        tokenized_batch = tokenizer(batch_texts, max_length=max_length, padding='max_length', truncation=True)\n",
    "\n",
    "        input_ids.extend(tokenized_batch['input_ids'])\n",
    "        token_type_ids.extend(tokenized_batch['token_type_ids'])\n",
    "        attention_masks.extend(tokenized_batch['attention_mask'])\n",
    "\n",
    "        # Rilascia esplicitamente la memoria del batch processato\n",
    "        del tokenized_batch\n",
    "\n",
    "    return input_ids, token_type_ids, attention_masks\n",
    "\n",
    "# Tokenizza i dati di addestramento e di test in batch\n",
    "train_input_ids, train_token_type_ids, train_attention_mask = batch_tokenize(tw_train, tokenizer)\n",
    "test_input_ids, test_token_type_ids, test_attention_mask = batch_tokenize(tw_test, tokenizer)\n",
    "\n",
    "# Converti le liste in tensori torch\n",
    "train_input_ids = torch.tensor(train_input_ids, dtype=torch.long)\n",
    "train_token_type_ids = torch.tensor(train_token_type_ids, dtype=torch.long)\n",
    "train_attention_mask = torch.tensor(train_attention_mask, dtype=torch.long)\n",
    "\n",
    "test_input_ids = torch.tensor(test_input_ids, dtype=torch.long)\n",
    "test_token_type_ids = torch.tensor(test_token_type_ids, dtype=torch.long)\n",
    "test_attention_mask = torch.tensor(test_attention_mask, dtype=torch.long)\n",
    "test_ids = torch.tensor(ids_test, dtype=torch.long)\n",
    "\n",
    "# Converti le etichette in tensori torch (assumendo che le etichette siano interi)\n",
    "train_labels = torch.tensor(labels_train, dtype=torch.long)\n",
    "test_labels = torch.tensor(labels_test, dtype=torch.long)"
   ]
  },
  {
   "cell_type": "code",
   "execution_count": 15,
   "id": "8abcec39",
   "metadata": {
    "id": "8abcec39"
   },
   "outputs": [],
   "source": [
    "batch_size = 8 #\n",
    "\n",
    "train_data = TensorDataset(train_input_ids, train_attention_mask, train_labels, train_token_type_ids)\n",
    "test_data = TensorDataset(test_input_ids, test_attention_mask, test_labels, test_token_type_ids, test_ids)\n",
    "\n",
    "\n",
    "train_sampler = RandomSampler(train_data)\n",
    "train_dataloader = DataLoader(train_data, sampler=train_sampler, batch_size=batch_size)\n",
    "\n",
    "test_sampler = RandomSampler(test_data)\n",
    "test_dataloader = DataLoader(test_data, sampler=test_sampler, batch_size=batch_size)"
   ]
  },
  {
   "cell_type": "markdown",
   "id": "a6f3ad8b",
   "metadata": {
    "id": "a6f3ad8b"
   },
   "source": [
    "## Models"
   ]
  },
  {
   "cell_type": "code",
   "execution_count": 16,
   "id": "657e5a80",
   "metadata": {
    "id": "657e5a80"
   },
   "outputs": [],
   "source": [
    "class CovidTwitterBertClassifier(nn.Module):\n",
    "\n",
    "    def __init__(self, n_classes):\n",
    "        super().__init__()\n",
    "        self.n_classes = n_classes\n",
    "        self.bert = BertForPreTraining.from_pretrained('digitalepidemiologylab/covid-twitter-bert-v2')\n",
    "        self.bert.cls.seq_relationship = nn.Linear(1024, n_classes)\n",
    "\n",
    "        self.sigmoid = nn.Sigmoid()\n",
    "\n",
    "    def forward(self, input_ids, token_type_ids, input_mask):\n",
    "        outputs = self.bert(input_ids = input_ids, token_type_ids = token_type_ids, attention_mask = input_mask)\n",
    "\n",
    "        logits = outputs[1]\n",
    "\n",
    "        return logits"
   ]
  },
  {
   "cell_type": "code",
   "execution_count": 17,
   "id": "137d7cb3",
   "metadata": {
    "colab": {
     "base_uri": "https://localhost:8080/",
     "height": 1000,
     "referenced_widgets": [
      "f5e6b9ab4198484bb908502ec0e7c193",
      "6c45172b8f4a454cb352e5623ebf8256",
      "db6b101ee7424407a48257876a73f206",
      "0244c8066ff745a382e1a292daa9573f",
      "dbf207aae14e4433ad6e6daea51bfaee",
      "084d8f8f95c241ae9778104767bfb069",
      "48b64d90264648238f9f351144632306",
      "73d28defc042429c81262e446c6578da",
      "142de95686974053960de93fdbddb12b",
      "cd1a78cb98af477cbbcf5fa6cec6f840",
      "8a80786e5c4f49f9861a949b8bd8053f",
      "41d91993717f4d89ad832fa054ecde92",
      "5937d1a8abda4010b6a2b2cf7d08f05e",
      "6b897a76b04c4efebe1645fcb2c1378a",
      "6da8155639c14437990bb732d23bc6c5",
      "9caca6fdc4ae469b8159d9c54429efdd",
      "bee44eb6807a4966b474f764084a06be",
      "17a2c78f11204a8e82cc2fb6e804c9a1",
      "59f6e8fb61244fa8a3b8f25cd0edcf6a",
      "84ea980acc1841fdb0adc69913ed1537",
      "73b7943f50494c81a79fb14a8478c236",
      "7ec77ba09b25470e86e8417c0b440ed6"
     ]
    },
    "executionInfo": {
     "elapsed": 32468,
     "status": "ok",
     "timestamp": 1718797201105,
     "user": {
      "displayName": "Riccardo Felici",
      "userId": "03523362669432416892"
     },
     "user_tz": -120
    },
    "id": "137d7cb3",
    "outputId": "cbd661fe-2efc-46b1-cdcb-5925f168a82d",
    "scrolled": true
   },
   "outputs": [
    {
     "data": {
      "text/plain": [
       "CovidTwitterBertClassifier(\n",
       "  (bert): BertForPreTraining(\n",
       "    (bert): BertModel(\n",
       "      (embeddings): BertEmbeddings(\n",
       "        (word_embeddings): Embedding(30522, 1024, padding_idx=0)\n",
       "        (position_embeddings): Embedding(512, 1024)\n",
       "        (token_type_embeddings): Embedding(2, 1024)\n",
       "        (LayerNorm): LayerNorm((1024,), eps=1e-12, elementwise_affine=True)\n",
       "        (dropout): Dropout(p=0.1, inplace=False)\n",
       "      )\n",
       "      (encoder): BertEncoder(\n",
       "        (layer): ModuleList(\n",
       "          (0-23): 24 x BertLayer(\n",
       "            (attention): BertAttention(\n",
       "              (self): BertSdpaSelfAttention(\n",
       "                (query): Linear(in_features=1024, out_features=1024, bias=True)\n",
       "                (key): Linear(in_features=1024, out_features=1024, bias=True)\n",
       "                (value): Linear(in_features=1024, out_features=1024, bias=True)\n",
       "                (dropout): Dropout(p=0.1, inplace=False)\n",
       "              )\n",
       "              (output): BertSelfOutput(\n",
       "                (dense): Linear(in_features=1024, out_features=1024, bias=True)\n",
       "                (LayerNorm): LayerNorm((1024,), eps=1e-12, elementwise_affine=True)\n",
       "                (dropout): Dropout(p=0.1, inplace=False)\n",
       "              )\n",
       "            )\n",
       "            (intermediate): BertIntermediate(\n",
       "              (dense): Linear(in_features=1024, out_features=4096, bias=True)\n",
       "              (intermediate_act_fn): GELUActivation()\n",
       "            )\n",
       "            (output): BertOutput(\n",
       "              (dense): Linear(in_features=4096, out_features=1024, bias=True)\n",
       "              (LayerNorm): LayerNorm((1024,), eps=1e-12, elementwise_affine=True)\n",
       "              (dropout): Dropout(p=0.1, inplace=False)\n",
       "            )\n",
       "          )\n",
       "        )\n",
       "      )\n",
       "      (pooler): BertPooler(\n",
       "        (dense): Linear(in_features=1024, out_features=1024, bias=True)\n",
       "        (activation): Tanh()\n",
       "      )\n",
       "    )\n",
       "    (cls): BertPreTrainingHeads(\n",
       "      (predictions): BertLMPredictionHead(\n",
       "        (transform): BertPredictionHeadTransform(\n",
       "          (dense): Linear(in_features=1024, out_features=1024, bias=True)\n",
       "          (transform_act_fn): GELUActivation()\n",
       "          (LayerNorm): LayerNorm((1024,), eps=1e-12, elementwise_affine=True)\n",
       "        )\n",
       "        (decoder): Linear(in_features=1024, out_features=30522, bias=True)\n",
       "      )\n",
       "      (seq_relationship): Linear(in_features=1024, out_features=3, bias=True)\n",
       "    )\n",
       "  )\n",
       "  (sigmoid): Sigmoid()\n",
       ")"
      ]
     },
     "execution_count": 17,
     "metadata": {},
     "output_type": "execute_result"
    }
   ],
   "source": [
    "model = CovidTwitterBertClassifier(3) # 5 for emotion and 3 for sentiment and political bias\n",
    "\n",
    "\n",
    "model.to(device)"
   ]
  },
  {
   "cell_type": "code",
   "execution_count": 18,
   "id": "eb60b67b",
   "metadata": {
    "id": "eb60b67b"
   },
   "outputs": [],
   "source": [
    "#optimizer_grouped_parameters\n",
    "optimizer = AdamW(model.parameters(),\n",
    "                  lr=1e-5,\n",
    "                  #lr=3e-5,\n",
    "                  weight_decay = 0.01)\n",
    "\n",
    "scheduler = ReduceLROnPlateau(optimizer, patience=4, factor=0.3)"
   ]
  },
  {
   "cell_type": "code",
   "execution_count": 19,
   "id": "b509c9d7",
   "metadata": {
    "id": "b509c9d7"
   },
   "outputs": [],
   "source": [
    "criterion = nn.CrossEntropyLoss(weight = weights)\n"
   ]
  },
  {
   "cell_type": "markdown",
   "id": "b0ad823b",
   "metadata": {
    "id": "b0ad823b"
   },
   "source": [
    "## Training loop"
   ]
  },
  {
   "cell_type": "code",
   "execution_count": null,
   "id": "89243993",
   "metadata": {
    "colab": {
     "base_uri": "https://localhost:8080/",
     "height": 211
    },
    "executionInfo": {
     "elapsed": 412,
     "status": "error",
     "timestamp": 1718805879265,
     "user": {
      "displayName": "Riccardo Felici",
      "userId": "03523362669432416892"
     },
     "user_tz": -120
    },
    "id": "89243993",
    "outputId": "e8ea63e2-b1c8-40fb-d6eb-191aa2914624",
    "scrolled": true
   },
   "outputs": [
    {
     "data": {
      "application/vnd.jupyter.widget-view+json": {
       "model_id": "bef4e5bd152c4642af7a374a1356e12b",
       "version_major": 2,
       "version_minor": 0
      },
      "text/plain": [
       "  0%|          | 0/15 [00:00<?, ?it/s]"
      ]
     },
     "metadata": {},
     "output_type": "display_data"
    },
    {
     "name": "stdout",
     "output_type": "stream",
     "text": [
      "Starting epoch  0\n"
     ]
    },
    {
     "data": {
      "application/vnd.jupyter.widget-view+json": {
       "model_id": "c6abc23eb2f74b868e5cf0694e3927c2",
       "version_major": 2,
       "version_minor": 0
      },
      "text/plain": [
       "  0%|          | 0/149263 [00:00<?, ?it/s]"
      ]
     },
     "metadata": {},
     "output_type": "display_data"
    },
    {
     "ename": "KeyboardInterrupt",
     "evalue": "",
     "output_type": "error",
     "traceback": [
      "\u001b[0;31m---------------------------------------------------------------------------\u001b[0m",
      "\u001b[0;31mKeyboardInterrupt\u001b[0m                         Traceback (most recent call last)",
      "Cell \u001b[0;32mIn[18], line 34\u001b[0m\n\u001b[1;32m     31\u001b[0m loss\u001b[38;5;241m.\u001b[39mbackward()\n\u001b[1;32m     32\u001b[0m optimizer\u001b[38;5;241m.\u001b[39mstep()\n\u001b[0;32m---> 34\u001b[0m tr_loss \u001b[38;5;241m+\u001b[39m\u001b[38;5;241m=\u001b[39m \u001b[43mloss\u001b[49m\u001b[38;5;241;43m.\u001b[39;49m\u001b[43mitem\u001b[49m\u001b[43m(\u001b[49m\u001b[43m)\u001b[49m\n\u001b[1;32m     35\u001b[0m nb_tr_examples \u001b[38;5;241m+\u001b[39m\u001b[38;5;241m=\u001b[39m b_input_ids\u001b[38;5;241m.\u001b[39msize(\u001b[38;5;241m0\u001b[39m)\n\u001b[1;32m     36\u001b[0m nb_tr_steps \u001b[38;5;241m+\u001b[39m\u001b[38;5;241m=\u001b[39m \u001b[38;5;241m1\u001b[39m\n",
      "\u001b[0;31mKeyboardInterrupt\u001b[0m: "
     ]
    }
   ],
   "source": [
    "epochs = 15\n",
    "\n",
    "best_F1 = 0\n",
    "best_ACC = 0\n",
    "best_loss = 999\n",
    "best_acc = 0\n",
    "best_state_dict = model.state_dict()\n",
    "best_epoch = 0\n",
    "\n",
    "for e in trange(0, epochs, position=0, leave=True):\n",
    "\n",
    "    # Training\n",
    "    print('Starting epoch ', e)\n",
    "    model.train()\n",
    "\n",
    "    tr_loss = 0\n",
    "    nb_tr_examples, nb_tr_steps = 0, 0\n",
    "\n",
    "    for step, batch in enumerate(tqdm(train_dataloader)):\n",
    "\n",
    "        batch = tuple(t.to(device) for t in batch)\n",
    "\n",
    "        b_input_ids, b_input_mask, b_labels, b_token_type_ids = batch\n",
    "\n",
    "        b_labels = b_labels.float()\n",
    "        optimizer.zero_grad()\n",
    "\n",
    "        logits = model(b_input_ids, b_token_type_ids, b_input_mask)\n",
    "\n",
    "        loss = criterion(logits, b_labels.long())\n",
    "        loss.backward()\n",
    "        optimizer.step()\n",
    "\n",
    "        tr_loss += loss.item()\n",
    "        nb_tr_examples += b_input_ids.size(0)\n",
    "        nb_tr_steps += 1\n",
    "\n",
    "    print(\"Train loss: {}\".format(tr_loss/nb_tr_steps))\n",
    "\n",
    "\n",
    "    # eval\n",
    "\n",
    "    logits_full = []\n",
    "    ground_truth_full = []\n",
    "\n",
    "    model.eval()\n",
    "    eval_loss = 0\n",
    "    steps=0\n",
    "    for step, batch in enumerate(tqdm(test_dataloader)):\n",
    "\n",
    "        # Add batch to GPU\n",
    "        batch = tuple(t.to(device) for t in batch)\n",
    "\n",
    "        b_input_ids, b_input_mask, b_labels, b_token_type_ids, b_ids = batch\n",
    "\n",
    "        b_labels = b_labels.float()\n",
    "\n",
    "        with torch.no_grad():\n",
    "\n",
    "            logits = model(b_input_ids, b_token_type_ids, b_input_mask)\n",
    "            loss = criterion(logits, b_labels.long())\n",
    "\n",
    "\n",
    "\n",
    "        logits = logits.detach().cpu().tolist()\n",
    "        logits_full.extend(logits)\n",
    "        ground_truth = b_labels.detach().cpu().tolist()\n",
    "        ground_truth_full.extend(ground_truth)\n",
    "\n",
    "        steps+=1\n",
    "        eval_loss+=loss.detach().item()\n",
    "\n",
    "\n",
    "    scheduler.step(eval_loss/steps)\n",
    "    LOSS = eval_loss/steps\n",
    "    F1 = metrics.f1_score(np.array(logits_full).argmax(axis=1), np.array(ground_truth_full), average='micro')\n",
    "    ACC = metrics.accuracy_score(np.array(logits_full).argmax(axis=1), np.array(ground_truth_full))\n",
    "\n",
    "    if F1> best_F1:\n",
    "        best_loss = LOSS\n",
    "        best_F1 = F1\n",
    "        best_ACC = ACC\n",
    "        best_state_dict = copy.deepcopy(model.state_dict())\n",
    "        best_epoch = e\n",
    "\n",
    "    print(\"\\t Eval loss: {}\".format(LOSS))\n",
    "    print(\"\\t Eval F1: {}\".format(F1))\n",
    "    print(\"\\t Eval ACC: {}\".format(ACC))\n",
    "    print(\"---\"*25)\n",
    "    print(\"\\n\")"
   ]
  },
  {
   "cell_type": "code",
   "execution_count": null,
   "id": "9fd4526b",
   "metadata": {
    "id": "9fd4526b"
   },
   "outputs": [],
   "source": [
    "print(\"Best epoch\", best_epoch)\n",
    "print(\"\\t Eval loss: {}\".format(best_loss))\n",
    "print(\"\\t Eval F1: {}\".format(best_F1))\n",
    "print(\"---\"*25)\n",
    "print(\"\\n\")"
   ]
  },
  {
   "cell_type": "code",
   "execution_count": null,
   "id": "681b07c7",
   "metadata": {
    "id": "681b07c7"
   },
   "outputs": [],
   "source": [
    "torch.save(best_state_dict, '../data/models/emotion_undersampling_CV'+str(k)+'_e'+str(best_epoch)+'_'+str(round(best_F1, 3))+'.pth')"
   ]
  },
  {
   "cell_type": "markdown",
   "id": "ccf4f326",
   "metadata": {
    "id": "ccf4f326"
   },
   "source": [
    "# Inference"
   ]
  },
  {
   "cell_type": "markdown",
   "id": "87c2e034",
   "metadata": {
    "id": "87c2e034"
   },
   "source": [
    "## Load Data"
   ]
  },
  {
   "cell_type": "code",
   "execution_count": 22,
   "id": "b9cdfb63",
   "metadata": {
    "id": "b9cdfb63"
   },
   "outputs": [],
   "source": [
    "#data_path = '../data/covid-latent/'\n",
    "#data_path = '../data/covid-latent/undersampling/'\n",
    "#data_path = '../data/stance-detection-in-covid-19-tweets/stay_at_home_orders/' #face_masks, school_closures, stay_at_home_orders, fauci\n",
    "data_path = '../data/russian-troll-tweets/'\n",
    "#data_path = '../data/COVIDSenti/'\n",
    "#data_path = '../data/birdwatch/'\n",
    "#data_path = '../data/mediaeval22/old_task1/'\n",
    "\n",
    "filelist = os.listdir(data_path)\n",
    "\n",
    "# Prendi solo i primi tre file\n",
    "filelist_subset = filelist[:2]\n",
    "\n",
    "df_list = [pd.read_csv(data_path+file) for file in filelist_subset]\n",
    "\n",
    "\n",
    "test_df = df_list[k]\n",
    "\n",
    "train_df = pd.concat(df_list[:k]+df_list[k+1:])\n",
    "test_df = pd.concat([train_df, test_df])\n",
    "\n",
    "\n",
    "tw_train = train_df['content']\n",
    "tw_test = test_df['content']\n",
    "#ids_test = test_df['tweet'].tolist()\n",
    "\n",
    "\n",
    "if normalize_test_flag:\n",
    "    tw_train = normalize_text(tw_train)\n",
    "    tw_test = normalize_text(tw_test)\n",
    "\n",
    "#emotion\n",
    "#train_df['emotion'][train_df['emotion'].isna()]='N'\n",
    "#labels_train = train_df['emotion'].to_numpy()\n",
    "#labels_train[labels_train=='N']=0\n",
    "#labels_train[labels_train=='H']=1\n",
    "#labels_train[labels_train=='A']=2\n",
    "#labels_train[labels_train=='S']=3\n",
    "#labels_train[labels_train=='F']=4\n",
    "#labels_train = labels_train.tolist()\n",
    "\n",
    "#sentiment\n",
    "#labels_train = train_df['label'].to_numpy()\n",
    "#labels_train[labels_train=='neu']=1\n",
    "#labels_train[labels_train=='pos']=2\n",
    "#labels_train[labels_train=='neg']=0\n",
    "#labels_train = labels_train.tolist()\n",
    "\n",
    "#political bias\n",
    "labels_train = train_df['account_category'].to_numpy()\n",
    "labels_train[labels_train==\"Unknown\"]=1\n",
    "labels_train[labels_train==\"NonEnglish\"]=1\n",
    "labels_train[labels_train==\"Commercial\"]=1\n",
    "labels_train[labels_train==\"NewsFeed\"]=1\n",
    "labels_train[labels_train==\"HashtagGamer\"]=1\n",
    "labels_train[labels_train==\"Fearmonger\"]=1\n",
    "labels_train[labels_train==\"LeftTroll\"]=0\n",
    "labels_train[labels_train==\"RightTroll\"]=2\n",
    "labels_train = labels_train.tolist()\n",
    "\n",
    "#emotion\n",
    "#test_df['emotion'][test_df['emotion'].isna()]='N'\n",
    "#labels_test = test_df['emotion'].to_numpy()\n",
    "#labels_test[labels_test=='N']=0\n",
    "#labels_test[labels_test=='H']=1\n",
    "#labels_test[labels_test=='A']=2\n",
    "#labels_test[labels_test=='S']=3\n",
    "#labels_test[labels_test=='F']=4\n",
    "#labels_test = labels_test.tolist()\n",
    "\n",
    "#sentiment\n",
    "# labels_test = test_df['label'].to_numpy()\n",
    "# labels_test[labels_test=='neu']=1\n",
    "# labels_test[labels_test=='pos']=2\n",
    "# labels_test[labels_test=='neg']=0\n",
    "# labels_test = labels_test.tolist()\n",
    "\n",
    "#political bias\n",
    "labels_test = test_df['account_category'].to_numpy()\n",
    "labels_test[labels_test==\"Unknown\"]=1\n",
    "labels_test[labels_test==\"NonEnglish\"]=1\n",
    "labels_test[labels_test==\"Commercial\"]=1\n",
    "labels_test[labels_test==\"NewsFeed\"]=1\n",
    "labels_test[labels_test==\"HashtagGamer\"]=1\n",
    "labels_test[labels_test==\"Fearmonger\"]=1\n",
    "labels_test[labels_test==\"LeftTroll\"]=0\n",
    "labels_test[labels_test==\"RightTroll\"]=2\n",
    "labels_test = labels_test.tolist()\n",
    "\n",
    "ids_test = [i for i in range(0, len(test_df))]\n",
    "\n",
    "#labels_train = [[l-1 for l in L] for L in labels_train]\n",
    "#labels_test = [[l-1 for l in L] for L in labels_test]\n",
    "\n"
   ]
  },
  {
   "cell_type": "markdown",
   "id": "1e16c764",
   "metadata": {
    "id": "1e16c764"
   },
   "source": [
    "## Load model"
   ]
  },
  {
   "cell_type": "code",
   "execution_count": 24,
   "id": "96750d59",
   "metadata": {
    "id": "96750d59"
   },
   "outputs": [
    {
     "data": {
      "text/plain": [
       "CovidTwitterBertClassifier(\n",
       "  (bert): BertForPreTraining(\n",
       "    (bert): BertModel(\n",
       "      (embeddings): BertEmbeddings(\n",
       "        (word_embeddings): Embedding(30522, 1024, padding_idx=0)\n",
       "        (position_embeddings): Embedding(512, 1024)\n",
       "        (token_type_embeddings): Embedding(2, 1024)\n",
       "        (LayerNorm): LayerNorm((1024,), eps=1e-12, elementwise_affine=True)\n",
       "        (dropout): Dropout(p=0.1, inplace=False)\n",
       "      )\n",
       "      (encoder): BertEncoder(\n",
       "        (layer): ModuleList(\n",
       "          (0-23): 24 x BertLayer(\n",
       "            (attention): BertAttention(\n",
       "              (self): BertSdpaSelfAttention(\n",
       "                (query): Linear(in_features=1024, out_features=1024, bias=True)\n",
       "                (key): Linear(in_features=1024, out_features=1024, bias=True)\n",
       "                (value): Linear(in_features=1024, out_features=1024, bias=True)\n",
       "                (dropout): Dropout(p=0.1, inplace=False)\n",
       "              )\n",
       "              (output): BertSelfOutput(\n",
       "                (dense): Linear(in_features=1024, out_features=1024, bias=True)\n",
       "                (LayerNorm): LayerNorm((1024,), eps=1e-12, elementwise_affine=True)\n",
       "                (dropout): Dropout(p=0.1, inplace=False)\n",
       "              )\n",
       "            )\n",
       "            (intermediate): BertIntermediate(\n",
       "              (dense): Linear(in_features=1024, out_features=4096, bias=True)\n",
       "              (intermediate_act_fn): GELUActivation()\n",
       "            )\n",
       "            (output): BertOutput(\n",
       "              (dense): Linear(in_features=4096, out_features=1024, bias=True)\n",
       "              (LayerNorm): LayerNorm((1024,), eps=1e-12, elementwise_affine=True)\n",
       "              (dropout): Dropout(p=0.1, inplace=False)\n",
       "            )\n",
       "          )\n",
       "        )\n",
       "      )\n",
       "      (pooler): BertPooler(\n",
       "        (dense): Linear(in_features=1024, out_features=1024, bias=True)\n",
       "        (activation): Tanh()\n",
       "      )\n",
       "    )\n",
       "    (cls): BertPreTrainingHeads(\n",
       "      (predictions): BertLMPredictionHead(\n",
       "        (transform): BertPredictionHeadTransform(\n",
       "          (dense): Linear(in_features=1024, out_features=1024, bias=True)\n",
       "          (transform_act_fn): GELUActivation()\n",
       "          (LayerNorm): LayerNorm((1024,), eps=1e-12, elementwise_affine=True)\n",
       "        )\n",
       "        (decoder): Linear(in_features=1024, out_features=30522, bias=True)\n",
       "      )\n",
       "      (seq_relationship): Linear(in_features=1024, out_features=3, bias=True)\n",
       "    )\n",
       "  )\n",
       "  (sigmoid): Sigmoid()\n",
       ")"
      ]
     },
     "execution_count": 24,
     "metadata": {},
     "output_type": "execute_result"
    }
   ],
   "source": [
    "model.load_state_dict(torch.load('../data/models/russian0_e5_0.681.pth'))\n",
    "model.eval()"
   ]
  },
  {
   "cell_type": "code",
   "execution_count": 25,
   "id": "32f2e166",
   "metadata": {
    "id": "32f2e166",
    "scrolled": true
   },
   "outputs": [
    {
     "data": {
      "application/vnd.jupyter.widget-view+json": {
       "model_id": "6d48c4fe439b46aba667d771d8afae90",
       "version_major": 2,
       "version_minor": 0
      },
      "text/plain": [
       "  0%|          | 0/94913 [00:00<?, ?it/s]"
      ]
     },
     "metadata": {},
     "output_type": "display_data"
    },
    {
     "name": "stdout",
     "output_type": "stream",
     "text": [
      "\t Eval loss: 0.0\n",
      "\t Eval F1: 0.5948552546493542\n",
      "\t Eval ACC: 0.5948552546493542\n",
      "---------------------------------------------------------------------------\n",
      "\n",
      "\n"
     ]
    }
   ],
   "source": [
    "logits_full = []\n",
    "ground_truth_full = []\n",
    "ids_full = []\n",
    "\n",
    "eval_loss = 0\n",
    "steps=0\n",
    "for step, batch in enumerate(tqdm(test_dataloader)):\n",
    "\n",
    "    # Add batch to GPU\n",
    "    batch = tuple(t.to(device) for t in batch)\n",
    "\n",
    "    b_input_ids, b_input_mask, b_labels, b_token_type_ids, test_ids = batch\n",
    "\n",
    "    b_labels = b_labels.float()\n",
    "\n",
    "    with torch.no_grad():\n",
    "\n",
    "        logits = model(b_input_ids, b_token_type_ids, b_input_mask)\n",
    "        #loss = criterion(logits, b_labels.long())\n",
    "\n",
    "\n",
    "\n",
    "    logits = logits.detach().cpu().tolist()\n",
    "    logits_full.extend(logits)\n",
    "    ground_truth = b_labels.detach().cpu().tolist()\n",
    "    ground_truth_full.extend(ground_truth)\n",
    "    ids = test_ids.detach().cpu().tolist()\n",
    "    ids_full.extend(ids)\n",
    "    steps+=1\n",
    "    #eval_loss+=loss.detach().item()\n",
    "\n",
    "scheduler.step(eval_loss/steps)\n",
    "LOSS = eval_loss/steps\n",
    "F1 = metrics.f1_score(np.array(logits_full).argmax(axis=1), np.array(ground_truth_full), average='micro')\n",
    "ACC = metrics.accuracy_score(np.array(logits_full).argmax(axis=1), np.array(ground_truth_full))\n",
    "\n",
    "\n",
    "print(\"\\t Eval loss: {}\".format(LOSS))\n",
    "print(\"\\t Eval F1: {}\".format(F1))\n",
    "print(\"\\t Eval ACC: {}\".format(ACC))\n",
    "print(\"---\"*25)\n",
    "print(\"\\n\")"
   ]
  },
  {
   "cell_type": "code",
   "execution_count": 28,
   "id": "09b7bdb6",
   "metadata": {
    "id": "09b7bdb6"
   },
   "outputs": [],
   "source": [
    "df = pd.DataFrame()\n",
    "\n",
    "df['ids'] = ids_full\n",
    "df['political_bias'] = np.array(logits_full).argmax(axis=1).tolist()\n",
    "#df.to_csv(data_path+'masks'+str(k)+'.csv', index=False)\n",
    "df.to_csv(data_path+'emotion_full.csv', index=False)"
   ]
  },
  {
   "cell_type": "markdown",
   "id": "0f8a0cbe",
   "metadata": {
    "id": "0f8a0cbe"
   },
   "source": [
    "# Visu"
   ]
  },
  {
   "cell_type": "code",
   "execution_count": 31,
   "id": "e6817a86",
   "metadata": {},
   "outputs": [
    {
     "data": {
      "text/html": [
       "<div>\n",
       "<style scoped>\n",
       "    .dataframe tbody tr th:only-of-type {\n",
       "        vertical-align: middle;\n",
       "    }\n",
       "\n",
       "    .dataframe tbody tr th {\n",
       "        vertical-align: top;\n",
       "    }\n",
       "\n",
       "    .dataframe thead th {\n",
       "        text-align: right;\n",
       "    }\n",
       "</style>\n",
       "<table border=\"1\" class=\"dataframe\">\n",
       "  <thead>\n",
       "    <tr style=\"text-align: right;\">\n",
       "      <th></th>\n",
       "      <th>external_author_id</th>\n",
       "      <th>author</th>\n",
       "      <th>content</th>\n",
       "      <th>region</th>\n",
       "      <th>language</th>\n",
       "      <th>publish_date</th>\n",
       "      <th>harvested_date</th>\n",
       "      <th>following</th>\n",
       "      <th>followers</th>\n",
       "      <th>updates</th>\n",
       "      <th>post_type</th>\n",
       "      <th>account_type</th>\n",
       "      <th>new_june_2018</th>\n",
       "      <th>retweet</th>\n",
       "      <th>account_category</th>\n",
       "    </tr>\n",
       "  </thead>\n",
       "  <tbody>\n",
       "    <tr>\n",
       "      <th>0</th>\n",
       "      <td>1.513801e+09</td>\n",
       "      <td>YOUJUSTCTRLC</td>\n",
       "      <td>I went to Homegoods to get a table runner and ...</td>\n",
       "      <td>United States</td>\n",
       "      <td>English</td>\n",
       "      <td>1/8/2017 1:57</td>\n",
       "      <td>1/8/2017 1:57</td>\n",
       "      <td>2655</td>\n",
       "      <td>2724</td>\n",
       "      <td>3015</td>\n",
       "      <td>RETWEET</td>\n",
       "      <td>left</td>\n",
       "      <td>0</td>\n",
       "      <td>1</td>\n",
       "      <td>0</td>\n",
       "    </tr>\n",
       "    <tr>\n",
       "      <th>1</th>\n",
       "      <td>1.513801e+09</td>\n",
       "      <td>YOUJUSTCTRLC</td>\n",
       "      <td>The education of the masses, which should begi...</td>\n",
       "      <td>United States</td>\n",
       "      <td>English</td>\n",
       "      <td>1/8/2017 1:57</td>\n",
       "      <td>1/8/2017 1:57</td>\n",
       "      <td>2655</td>\n",
       "      <td>2724</td>\n",
       "      <td>3014</td>\n",
       "      <td>RETWEET</td>\n",
       "      <td>left</td>\n",
       "      <td>0</td>\n",
       "      <td>1</td>\n",
       "      <td>0</td>\n",
       "    </tr>\n",
       "    <tr>\n",
       "      <th>2</th>\n",
       "      <td>1.513801e+09</td>\n",
       "      <td>YOUJUSTCTRLC</td>\n",
       "      <td>#SciFiSunday: Interview With Fantasy Writer Ab...</td>\n",
       "      <td>United States</td>\n",
       "      <td>English</td>\n",
       "      <td>1/8/2017 20:02</td>\n",
       "      <td>1/8/2017 20:02</td>\n",
       "      <td>2657</td>\n",
       "      <td>2725</td>\n",
       "      <td>3024</td>\n",
       "      <td>RETWEET</td>\n",
       "      <td>left</td>\n",
       "      <td>0</td>\n",
       "      <td>1</td>\n",
       "      <td>0</td>\n",
       "    </tr>\n",
       "    <tr>\n",
       "      <th>3</th>\n",
       "      <td>1.513801e+09</td>\n",
       "      <td>YOUJUSTCTRLC</td>\n",
       "      <td>\"The original purpose of the plantation was to...</td>\n",
       "      <td>United States</td>\n",
       "      <td>English</td>\n",
       "      <td>1/8/2017 20:02</td>\n",
       "      <td>1/8/2017 20:02</td>\n",
       "      <td>2657</td>\n",
       "      <td>2725</td>\n",
       "      <td>3021</td>\n",
       "      <td>RETWEET</td>\n",
       "      <td>left</td>\n",
       "      <td>0</td>\n",
       "      <td>1</td>\n",
       "      <td>0</td>\n",
       "    </tr>\n",
       "    <tr>\n",
       "      <th>4</th>\n",
       "      <td>1.513801e+09</td>\n",
       "      <td>YOUJUSTCTRLC</td>\n",
       "      <td>Begging for her back R&amp;amp;B &amp;gt; Fuck that bi...</td>\n",
       "      <td>United States</td>\n",
       "      <td>English</td>\n",
       "      <td>1/8/2017 7:57</td>\n",
       "      <td>1/8/2017 7:57</td>\n",
       "      <td>2657</td>\n",
       "      <td>2723</td>\n",
       "      <td>3017</td>\n",
       "      <td>RETWEET</td>\n",
       "      <td>left</td>\n",
       "      <td>0</td>\n",
       "      <td>1</td>\n",
       "      <td>0</td>\n",
       "    </tr>\n",
       "    <tr>\n",
       "      <th>...</th>\n",
       "      <td>...</td>\n",
       "      <td>...</td>\n",
       "      <td>...</td>\n",
       "      <td>...</td>\n",
       "      <td>...</td>\n",
       "      <td>...</td>\n",
       "      <td>...</td>\n",
       "      <td>...</td>\n",
       "      <td>...</td>\n",
       "      <td>...</td>\n",
       "      <td>...</td>\n",
       "      <td>...</td>\n",
       "      <td>...</td>\n",
       "      <td>...</td>\n",
       "      <td>...</td>\n",
       "    </tr>\n",
       "    <tr>\n",
       "      <th>324507</th>\n",
       "      <td>2.260338e+09</td>\n",
       "      <td>POLITICS_T0DAY</td>\n",
       "      <td>ОЛИГАРХИ НАЦЕЛИЛИСЬ НА ВОЙНУ ПРОТИВ \"АРМАТЫ\". ...</td>\n",
       "      <td>United States</td>\n",
       "      <td>Russian</td>\n",
       "      <td>4/14/2017 17:31</td>\n",
       "      <td>4/14/2017 17:31</td>\n",
       "      <td>161</td>\n",
       "      <td>1079</td>\n",
       "      <td>24006</td>\n",
       "      <td>NaN</td>\n",
       "      <td>Russian</td>\n",
       "      <td>0</td>\n",
       "      <td>0</td>\n",
       "      <td>1</td>\n",
       "    </tr>\n",
       "    <tr>\n",
       "      <th>324508</th>\n",
       "      <td>2.260338e+09</td>\n",
       "      <td>POLITICS_T0DAY</td>\n",
       "      <td>Экспертов из США напугал российский модернизир...</td>\n",
       "      <td>United States</td>\n",
       "      <td>Russian</td>\n",
       "      <td>4/14/2017 18:02</td>\n",
       "      <td>4/14/2017 18:02</td>\n",
       "      <td>161</td>\n",
       "      <td>1079</td>\n",
       "      <td>24007</td>\n",
       "      <td>NaN</td>\n",
       "      <td>Russian</td>\n",
       "      <td>0</td>\n",
       "      <td>0</td>\n",
       "      <td>1</td>\n",
       "    </tr>\n",
       "    <tr>\n",
       "      <th>324509</th>\n",
       "      <td>2.260338e+09</td>\n",
       "      <td>POLITICS_T0DAY</td>\n",
       "      <td>https://t.co/952GHZHYAk https://t.co/HVNrMQIin7</td>\n",
       "      <td>United States</td>\n",
       "      <td>Russian</td>\n",
       "      <td>4/14/2017 18:32</td>\n",
       "      <td>4/14/2017 18:32</td>\n",
       "      <td>161</td>\n",
       "      <td>1079</td>\n",
       "      <td>24008</td>\n",
       "      <td>NaN</td>\n",
       "      <td>Russian</td>\n",
       "      <td>0</td>\n",
       "      <td>0</td>\n",
       "      <td>1</td>\n",
       "    </tr>\n",
       "    <tr>\n",
       "      <th>324510</th>\n",
       "      <td>2.260338e+09</td>\n",
       "      <td>POLITICS_T0DAY</td>\n",
       "      <td>https://t.co/VO4pyKGtcU https://t.co/Z1g9ievZog</td>\n",
       "      <td>United States</td>\n",
       "      <td>Russian</td>\n",
       "      <td>4/14/2017 1:01</td>\n",
       "      <td>4/14/2017 1:01</td>\n",
       "      <td>161</td>\n",
       "      <td>1079</td>\n",
       "      <td>23985</td>\n",
       "      <td>NaN</td>\n",
       "      <td>Russian</td>\n",
       "      <td>0</td>\n",
       "      <td>0</td>\n",
       "      <td>1</td>\n",
       "    </tr>\n",
       "    <tr>\n",
       "      <th>324511</th>\n",
       "      <td>2.260338e+09</td>\n",
       "      <td>POLITICS_T0DAY</td>\n",
       "      <td>Додон о курсе Молдавии на присоединение к ЕврА...</td>\n",
       "      <td>United States</td>\n",
       "      <td>Russian</td>\n",
       "      <td>4/14/2017 20:02</td>\n",
       "      <td>4/14/2017 20:02</td>\n",
       "      <td>161</td>\n",
       "      <td>1079</td>\n",
       "      <td>24009</td>\n",
       "      <td>NaN</td>\n",
       "      <td>Russian</td>\n",
       "      <td>0</td>\n",
       "      <td>0</td>\n",
       "      <td>1</td>\n",
       "    </tr>\n",
       "  </tbody>\n",
       "</table>\n",
       "<p>362067 rows × 15 columns</p>\n",
       "</div>"
      ],
      "text/plain": [
       "        external_author_id          author  \\\n",
       "0             1.513801e+09    YOUJUSTCTRLC   \n",
       "1             1.513801e+09    YOUJUSTCTRLC   \n",
       "2             1.513801e+09    YOUJUSTCTRLC   \n",
       "3             1.513801e+09    YOUJUSTCTRLC   \n",
       "4             1.513801e+09    YOUJUSTCTRLC   \n",
       "...                    ...             ...   \n",
       "324507        2.260338e+09  POLITICS_T0DAY   \n",
       "324508        2.260338e+09  POLITICS_T0DAY   \n",
       "324509        2.260338e+09  POLITICS_T0DAY   \n",
       "324510        2.260338e+09  POLITICS_T0DAY   \n",
       "324511        2.260338e+09  POLITICS_T0DAY   \n",
       "\n",
       "                                                  content         region  \\\n",
       "0       I went to Homegoods to get a table runner and ...  United States   \n",
       "1       The education of the masses, which should begi...  United States   \n",
       "2       #SciFiSunday: Interview With Fantasy Writer Ab...  United States   \n",
       "3       \"The original purpose of the plantation was to...  United States   \n",
       "4       Begging for her back R&amp;B &gt; Fuck that bi...  United States   \n",
       "...                                                   ...            ...   \n",
       "324507  ОЛИГАРХИ НАЦЕЛИЛИСЬ НА ВОЙНУ ПРОТИВ \"АРМАТЫ\". ...  United States   \n",
       "324508  Экспертов из США напугал российский модернизир...  United States   \n",
       "324509    https://t.co/952GHZHYAk https://t.co/HVNrMQIin7  United States   \n",
       "324510    https://t.co/VO4pyKGtcU https://t.co/Z1g9ievZog  United States   \n",
       "324511  Додон о курсе Молдавии на присоединение к ЕврА...  United States   \n",
       "\n",
       "       language     publish_date   harvested_date  following  followers  \\\n",
       "0       English    1/8/2017 1:57    1/8/2017 1:57       2655       2724   \n",
       "1       English    1/8/2017 1:57    1/8/2017 1:57       2655       2724   \n",
       "2       English   1/8/2017 20:02   1/8/2017 20:02       2657       2725   \n",
       "3       English   1/8/2017 20:02   1/8/2017 20:02       2657       2725   \n",
       "4       English    1/8/2017 7:57    1/8/2017 7:57       2657       2723   \n",
       "...         ...              ...              ...        ...        ...   \n",
       "324507  Russian  4/14/2017 17:31  4/14/2017 17:31        161       1079   \n",
       "324508  Russian  4/14/2017 18:02  4/14/2017 18:02        161       1079   \n",
       "324509  Russian  4/14/2017 18:32  4/14/2017 18:32        161       1079   \n",
       "324510  Russian   4/14/2017 1:01   4/14/2017 1:01        161       1079   \n",
       "324511  Russian  4/14/2017 20:02  4/14/2017 20:02        161       1079   \n",
       "\n",
       "        updates post_type account_type  new_june_2018  retweet  \\\n",
       "0          3015   RETWEET         left              0        1   \n",
       "1          3014   RETWEET         left              0        1   \n",
       "2          3024   RETWEET         left              0        1   \n",
       "3          3021   RETWEET         left              0        1   \n",
       "4          3017   RETWEET         left              0        1   \n",
       "...         ...       ...          ...            ...      ...   \n",
       "324507    24006       NaN      Russian              0        0   \n",
       "324508    24007       NaN      Russian              0        0   \n",
       "324509    24008       NaN      Russian              0        0   \n",
       "324510    23985       NaN      Russian              0        0   \n",
       "324511    24009       NaN      Russian              0        0   \n",
       "\n",
       "       account_category  \n",
       "0                     0  \n",
       "1                     0  \n",
       "2                     0  \n",
       "3                     0  \n",
       "4                     0  \n",
       "...                 ...  \n",
       "324507                1  \n",
       "324508                1  \n",
       "324509                1  \n",
       "324510                1  \n",
       "324511                1  \n",
       "\n",
       "[362067 rows x 15 columns]"
      ]
     },
     "execution_count": 31,
     "metadata": {},
     "output_type": "execute_result"
    }
   ],
   "source": [
    "test_df"
   ]
  },
  {
   "cell_type": "code",
   "execution_count": 34,
   "id": "4a151dfa",
   "metadata": {
    "id": "0f8a0cbe"
   },
   "outputs": [
    {
     "data": {
      "application/vnd.jupyter.widget-view+json": {
       "model_id": "dfba995afa3c486c9f890e22a9a211bb",
       "version_major": 2,
       "version_minor": 0
      },
      "text/plain": [
       "  0%|          | 0/759299 [00:00<?, ?it/s]"
      ]
     },
     "metadata": {},
     "output_type": "display_data"
    }
   ],
   "source": [
    "A = np.zeros((3, 5))\n",
    "\n",
    "for i in trange(0, len(df)):\n",
    "    A[test_df['account_category'].tolist()[i]][df.sort_values(by='ids')['political_bias'].tolist()[i]]+=1\n",
    "for i in range(0, 3):\n",
    "    A[i,:] = A[i,:]/A[i,:].sum()\n",
    "A"
   ]
  },
  {
   "cell_type": "code",
   "execution_count": null,
   "id": "4b422e71",
   "metadata": {
    "id": "4b422e71"
   },
   "outputs": [],
   "source": [
    "#NHASF\n",
    "#sns.light_palette(\"seagreen\", as_cmap=True)\n",
    "sns.heatmap(A, cmap = sns.light_palette(\"darkred\", as_cmap=True), yticklabels=['Right Troll', 'Left Troll', 'Other'], xticklabels=['Unknown', 'NonEnglish', 'Commercial', 'NewsFeed', 'HashtagGamer', 'Fearmonger', 'LeftTroll', 'RightTroll'])\n"
   ]
  }
 ],
 "metadata": {
  "accelerator": "GPU",
  "colab": {
   "gpuType": "T4",
   "provenance": []
  },
  "kernelspec": {
   "display_name": "Python 3 (ipykernel)",
   "language": "python",
   "name": "python3"
  },
  "language_info": {
   "codemirror_mode": {
    "name": "ipython",
    "version": 3
   },
   "file_extension": ".py",
   "mimetype": "text/x-python",
   "name": "python",
   "nbconvert_exporter": "python",
   "pygments_lexer": "ipython3",
   "version": "3.10.12"
  },
  "widgets": {
   "application/vnd.jupyter.widget-state+json": {
    "0244c8066ff745a382e1a292daa9573f": {
     "model_module": "@jupyter-widgets/controls",
     "model_module_version": "1.5.0",
     "model_name": "HTMLModel",
     "state": {
      "_dom_classes": [],
      "_model_module": "@jupyter-widgets/controls",
      "_model_module_version": "1.5.0",
      "_model_name": "HTMLModel",
      "_view_count": null,
      "_view_module": "@jupyter-widgets/controls",
      "_view_module_version": "1.5.0",
      "_view_name": "HTMLView",
      "description": "",
      "description_tooltip": null,
      "layout": "IPY_MODEL_cd1a78cb98af477cbbcf5fa6cec6f840",
      "placeholder": "​",
      "style": "IPY_MODEL_8a80786e5c4f49f9861a949b8bd8053f",
      "value": " 421/421 [00:00&lt;00:00, 24.3kB/s]"
     }
    },
    "084d8f8f95c241ae9778104767bfb069": {
     "model_module": "@jupyter-widgets/base",
     "model_module_version": "1.2.0",
     "model_name": "LayoutModel",
     "state": {
      "_model_module": "@jupyter-widgets/base",
      "_model_module_version": "1.2.0",
      "_model_name": "LayoutModel",
      "_view_count": null,
      "_view_module": "@jupyter-widgets/base",
      "_view_module_version": "1.2.0",
      "_view_name": "LayoutView",
      "align_content": null,
      "align_items": null,
      "align_self": null,
      "border": null,
      "bottom": null,
      "display": null,
      "flex": null,
      "flex_flow": null,
      "grid_area": null,
      "grid_auto_columns": null,
      "grid_auto_flow": null,
      "grid_auto_rows": null,
      "grid_column": null,
      "grid_gap": null,
      "grid_row": null,
      "grid_template_areas": null,
      "grid_template_columns": null,
      "grid_template_rows": null,
      "height": null,
      "justify_content": null,
      "justify_items": null,
      "left": null,
      "margin": null,
      "max_height": null,
      "max_width": null,
      "min_height": null,
      "min_width": null,
      "object_fit": null,
      "object_position": null,
      "order": null,
      "overflow": null,
      "overflow_x": null,
      "overflow_y": null,
      "padding": null,
      "right": null,
      "top": null,
      "visibility": null,
      "width": null
     }
    },
    "142de95686974053960de93fdbddb12b": {
     "model_module": "@jupyter-widgets/controls",
     "model_module_version": "1.5.0",
     "model_name": "ProgressStyleModel",
     "state": {
      "_model_module": "@jupyter-widgets/controls",
      "_model_module_version": "1.5.0",
      "_model_name": "ProgressStyleModel",
      "_view_count": null,
      "_view_module": "@jupyter-widgets/base",
      "_view_module_version": "1.2.0",
      "_view_name": "StyleView",
      "bar_color": null,
      "description_width": ""
     }
    },
    "17a2c78f11204a8e82cc2fb6e804c9a1": {
     "model_module": "@jupyter-widgets/controls",
     "model_module_version": "1.5.0",
     "model_name": "DescriptionStyleModel",
     "state": {
      "_model_module": "@jupyter-widgets/controls",
      "_model_module_version": "1.5.0",
      "_model_name": "DescriptionStyleModel",
      "_view_count": null,
      "_view_module": "@jupyter-widgets/base",
      "_view_module_version": "1.2.0",
      "_view_name": "StyleView",
      "description_width": ""
     }
    },
    "41d91993717f4d89ad832fa054ecde92": {
     "model_module": "@jupyter-widgets/controls",
     "model_module_version": "1.5.0",
     "model_name": "HBoxModel",
     "state": {
      "_dom_classes": [],
      "_model_module": "@jupyter-widgets/controls",
      "_model_module_version": "1.5.0",
      "_model_name": "HBoxModel",
      "_view_count": null,
      "_view_module": "@jupyter-widgets/controls",
      "_view_module_version": "1.5.0",
      "_view_name": "HBoxView",
      "box_style": "",
      "children": [
       "IPY_MODEL_5937d1a8abda4010b6a2b2cf7d08f05e",
       "IPY_MODEL_6b897a76b04c4efebe1645fcb2c1378a",
       "IPY_MODEL_6da8155639c14437990bb732d23bc6c5"
      ],
      "layout": "IPY_MODEL_9caca6fdc4ae469b8159d9c54429efdd"
     }
    },
    "48b64d90264648238f9f351144632306": {
     "model_module": "@jupyter-widgets/controls",
     "model_module_version": "1.5.0",
     "model_name": "DescriptionStyleModel",
     "state": {
      "_model_module": "@jupyter-widgets/controls",
      "_model_module_version": "1.5.0",
      "_model_name": "DescriptionStyleModel",
      "_view_count": null,
      "_view_module": "@jupyter-widgets/base",
      "_view_module_version": "1.2.0",
      "_view_name": "StyleView",
      "description_width": ""
     }
    },
    "5937d1a8abda4010b6a2b2cf7d08f05e": {
     "model_module": "@jupyter-widgets/controls",
     "model_module_version": "1.5.0",
     "model_name": "HTMLModel",
     "state": {
      "_dom_classes": [],
      "_model_module": "@jupyter-widgets/controls",
      "_model_module_version": "1.5.0",
      "_model_name": "HTMLModel",
      "_view_count": null,
      "_view_module": "@jupyter-widgets/controls",
      "_view_module_version": "1.5.0",
      "_view_name": "HTMLView",
      "description": "",
      "description_tooltip": null,
      "layout": "IPY_MODEL_bee44eb6807a4966b474f764084a06be",
      "placeholder": "​",
      "style": "IPY_MODEL_17a2c78f11204a8e82cc2fb6e804c9a1",
      "value": "pytorch_model.bin: 100%"
     }
    },
    "59f6e8fb61244fa8a3b8f25cd0edcf6a": {
     "model_module": "@jupyter-widgets/base",
     "model_module_version": "1.2.0",
     "model_name": "LayoutModel",
     "state": {
      "_model_module": "@jupyter-widgets/base",
      "_model_module_version": "1.2.0",
      "_model_name": "LayoutModel",
      "_view_count": null,
      "_view_module": "@jupyter-widgets/base",
      "_view_module_version": "1.2.0",
      "_view_name": "LayoutView",
      "align_content": null,
      "align_items": null,
      "align_self": null,
      "border": null,
      "bottom": null,
      "display": null,
      "flex": null,
      "flex_flow": null,
      "grid_area": null,
      "grid_auto_columns": null,
      "grid_auto_flow": null,
      "grid_auto_rows": null,
      "grid_column": null,
      "grid_gap": null,
      "grid_row": null,
      "grid_template_areas": null,
      "grid_template_columns": null,
      "grid_template_rows": null,
      "height": null,
      "justify_content": null,
      "justify_items": null,
      "left": null,
      "margin": null,
      "max_height": null,
      "max_width": null,
      "min_height": null,
      "min_width": null,
      "object_fit": null,
      "object_position": null,
      "order": null,
      "overflow": null,
      "overflow_x": null,
      "overflow_y": null,
      "padding": null,
      "right": null,
      "top": null,
      "visibility": null,
      "width": null
     }
    },
    "6b897a76b04c4efebe1645fcb2c1378a": {
     "model_module": "@jupyter-widgets/controls",
     "model_module_version": "1.5.0",
     "model_name": "FloatProgressModel",
     "state": {
      "_dom_classes": [],
      "_model_module": "@jupyter-widgets/controls",
      "_model_module_version": "1.5.0",
      "_model_name": "FloatProgressModel",
      "_view_count": null,
      "_view_module": "@jupyter-widgets/controls",
      "_view_module_version": "1.5.0",
      "_view_name": "ProgressView",
      "bar_style": "success",
      "description": "",
      "description_tooltip": null,
      "layout": "IPY_MODEL_59f6e8fb61244fa8a3b8f25cd0edcf6a",
      "max": 1345068539,
      "min": 0,
      "orientation": "horizontal",
      "style": "IPY_MODEL_84ea980acc1841fdb0adc69913ed1537",
      "value": 1345068539
     }
    },
    "6c45172b8f4a454cb352e5623ebf8256": {
     "model_module": "@jupyter-widgets/controls",
     "model_module_version": "1.5.0",
     "model_name": "HTMLModel",
     "state": {
      "_dom_classes": [],
      "_model_module": "@jupyter-widgets/controls",
      "_model_module_version": "1.5.0",
      "_model_name": "HTMLModel",
      "_view_count": null,
      "_view_module": "@jupyter-widgets/controls",
      "_view_module_version": "1.5.0",
      "_view_name": "HTMLView",
      "description": "",
      "description_tooltip": null,
      "layout": "IPY_MODEL_084d8f8f95c241ae9778104767bfb069",
      "placeholder": "​",
      "style": "IPY_MODEL_48b64d90264648238f9f351144632306",
      "value": "config.json: 100%"
     }
    },
    "6da8155639c14437990bb732d23bc6c5": {
     "model_module": "@jupyter-widgets/controls",
     "model_module_version": "1.5.0",
     "model_name": "HTMLModel",
     "state": {
      "_dom_classes": [],
      "_model_module": "@jupyter-widgets/controls",
      "_model_module_version": "1.5.0",
      "_model_name": "HTMLModel",
      "_view_count": null,
      "_view_module": "@jupyter-widgets/controls",
      "_view_module_version": "1.5.0",
      "_view_name": "HTMLView",
      "description": "",
      "description_tooltip": null,
      "layout": "IPY_MODEL_73b7943f50494c81a79fb14a8478c236",
      "placeholder": "​",
      "style": "IPY_MODEL_7ec77ba09b25470e86e8417c0b440ed6",
      "value": " 1.35G/1.35G [00:29&lt;00:00, 29.8MB/s]"
     }
    },
    "73b7943f50494c81a79fb14a8478c236": {
     "model_module": "@jupyter-widgets/base",
     "model_module_version": "1.2.0",
     "model_name": "LayoutModel",
     "state": {
      "_model_module": "@jupyter-widgets/base",
      "_model_module_version": "1.2.0",
      "_model_name": "LayoutModel",
      "_view_count": null,
      "_view_module": "@jupyter-widgets/base",
      "_view_module_version": "1.2.0",
      "_view_name": "LayoutView",
      "align_content": null,
      "align_items": null,
      "align_self": null,
      "border": null,
      "bottom": null,
      "display": null,
      "flex": null,
      "flex_flow": null,
      "grid_area": null,
      "grid_auto_columns": null,
      "grid_auto_flow": null,
      "grid_auto_rows": null,
      "grid_column": null,
      "grid_gap": null,
      "grid_row": null,
      "grid_template_areas": null,
      "grid_template_columns": null,
      "grid_template_rows": null,
      "height": null,
      "justify_content": null,
      "justify_items": null,
      "left": null,
      "margin": null,
      "max_height": null,
      "max_width": null,
      "min_height": null,
      "min_width": null,
      "object_fit": null,
      "object_position": null,
      "order": null,
      "overflow": null,
      "overflow_x": null,
      "overflow_y": null,
      "padding": null,
      "right": null,
      "top": null,
      "visibility": null,
      "width": null
     }
    },
    "73d28defc042429c81262e446c6578da": {
     "model_module": "@jupyter-widgets/base",
     "model_module_version": "1.2.0",
     "model_name": "LayoutModel",
     "state": {
      "_model_module": "@jupyter-widgets/base",
      "_model_module_version": "1.2.0",
      "_model_name": "LayoutModel",
      "_view_count": null,
      "_view_module": "@jupyter-widgets/base",
      "_view_module_version": "1.2.0",
      "_view_name": "LayoutView",
      "align_content": null,
      "align_items": null,
      "align_self": null,
      "border": null,
      "bottom": null,
      "display": null,
      "flex": null,
      "flex_flow": null,
      "grid_area": null,
      "grid_auto_columns": null,
      "grid_auto_flow": null,
      "grid_auto_rows": null,
      "grid_column": null,
      "grid_gap": null,
      "grid_row": null,
      "grid_template_areas": null,
      "grid_template_columns": null,
      "grid_template_rows": null,
      "height": null,
      "justify_content": null,
      "justify_items": null,
      "left": null,
      "margin": null,
      "max_height": null,
      "max_width": null,
      "min_height": null,
      "min_width": null,
      "object_fit": null,
      "object_position": null,
      "order": null,
      "overflow": null,
      "overflow_x": null,
      "overflow_y": null,
      "padding": null,
      "right": null,
      "top": null,
      "visibility": null,
      "width": null
     }
    },
    "7ec77ba09b25470e86e8417c0b440ed6": {
     "model_module": "@jupyter-widgets/controls",
     "model_module_version": "1.5.0",
     "model_name": "DescriptionStyleModel",
     "state": {
      "_model_module": "@jupyter-widgets/controls",
      "_model_module_version": "1.5.0",
      "_model_name": "DescriptionStyleModel",
      "_view_count": null,
      "_view_module": "@jupyter-widgets/base",
      "_view_module_version": "1.2.0",
      "_view_name": "StyleView",
      "description_width": ""
     }
    },
    "84ea980acc1841fdb0adc69913ed1537": {
     "model_module": "@jupyter-widgets/controls",
     "model_module_version": "1.5.0",
     "model_name": "ProgressStyleModel",
     "state": {
      "_model_module": "@jupyter-widgets/controls",
      "_model_module_version": "1.5.0",
      "_model_name": "ProgressStyleModel",
      "_view_count": null,
      "_view_module": "@jupyter-widgets/base",
      "_view_module_version": "1.2.0",
      "_view_name": "StyleView",
      "bar_color": null,
      "description_width": ""
     }
    },
    "8a80786e5c4f49f9861a949b8bd8053f": {
     "model_module": "@jupyter-widgets/controls",
     "model_module_version": "1.5.0",
     "model_name": "DescriptionStyleModel",
     "state": {
      "_model_module": "@jupyter-widgets/controls",
      "_model_module_version": "1.5.0",
      "_model_name": "DescriptionStyleModel",
      "_view_count": null,
      "_view_module": "@jupyter-widgets/base",
      "_view_module_version": "1.2.0",
      "_view_name": "StyleView",
      "description_width": ""
     }
    },
    "9caca6fdc4ae469b8159d9c54429efdd": {
     "model_module": "@jupyter-widgets/base",
     "model_module_version": "1.2.0",
     "model_name": "LayoutModel",
     "state": {
      "_model_module": "@jupyter-widgets/base",
      "_model_module_version": "1.2.0",
      "_model_name": "LayoutModel",
      "_view_count": null,
      "_view_module": "@jupyter-widgets/base",
      "_view_module_version": "1.2.0",
      "_view_name": "LayoutView",
      "align_content": null,
      "align_items": null,
      "align_self": null,
      "border": null,
      "bottom": null,
      "display": null,
      "flex": null,
      "flex_flow": null,
      "grid_area": null,
      "grid_auto_columns": null,
      "grid_auto_flow": null,
      "grid_auto_rows": null,
      "grid_column": null,
      "grid_gap": null,
      "grid_row": null,
      "grid_template_areas": null,
      "grid_template_columns": null,
      "grid_template_rows": null,
      "height": null,
      "justify_content": null,
      "justify_items": null,
      "left": null,
      "margin": null,
      "max_height": null,
      "max_width": null,
      "min_height": null,
      "min_width": null,
      "object_fit": null,
      "object_position": null,
      "order": null,
      "overflow": null,
      "overflow_x": null,
      "overflow_y": null,
      "padding": null,
      "right": null,
      "top": null,
      "visibility": null,
      "width": null
     }
    },
    "bee44eb6807a4966b474f764084a06be": {
     "model_module": "@jupyter-widgets/base",
     "model_module_version": "1.2.0",
     "model_name": "LayoutModel",
     "state": {
      "_model_module": "@jupyter-widgets/base",
      "_model_module_version": "1.2.0",
      "_model_name": "LayoutModel",
      "_view_count": null,
      "_view_module": "@jupyter-widgets/base",
      "_view_module_version": "1.2.0",
      "_view_name": "LayoutView",
      "align_content": null,
      "align_items": null,
      "align_self": null,
      "border": null,
      "bottom": null,
      "display": null,
      "flex": null,
      "flex_flow": null,
      "grid_area": null,
      "grid_auto_columns": null,
      "grid_auto_flow": null,
      "grid_auto_rows": null,
      "grid_column": null,
      "grid_gap": null,
      "grid_row": null,
      "grid_template_areas": null,
      "grid_template_columns": null,
      "grid_template_rows": null,
      "height": null,
      "justify_content": null,
      "justify_items": null,
      "left": null,
      "margin": null,
      "max_height": null,
      "max_width": null,
      "min_height": null,
      "min_width": null,
      "object_fit": null,
      "object_position": null,
      "order": null,
      "overflow": null,
      "overflow_x": null,
      "overflow_y": null,
      "padding": null,
      "right": null,
      "top": null,
      "visibility": null,
      "width": null
     }
    },
    "cd1a78cb98af477cbbcf5fa6cec6f840": {
     "model_module": "@jupyter-widgets/base",
     "model_module_version": "1.2.0",
     "model_name": "LayoutModel",
     "state": {
      "_model_module": "@jupyter-widgets/base",
      "_model_module_version": "1.2.0",
      "_model_name": "LayoutModel",
      "_view_count": null,
      "_view_module": "@jupyter-widgets/base",
      "_view_module_version": "1.2.0",
      "_view_name": "LayoutView",
      "align_content": null,
      "align_items": null,
      "align_self": null,
      "border": null,
      "bottom": null,
      "display": null,
      "flex": null,
      "flex_flow": null,
      "grid_area": null,
      "grid_auto_columns": null,
      "grid_auto_flow": null,
      "grid_auto_rows": null,
      "grid_column": null,
      "grid_gap": null,
      "grid_row": null,
      "grid_template_areas": null,
      "grid_template_columns": null,
      "grid_template_rows": null,
      "height": null,
      "justify_content": null,
      "justify_items": null,
      "left": null,
      "margin": null,
      "max_height": null,
      "max_width": null,
      "min_height": null,
      "min_width": null,
      "object_fit": null,
      "object_position": null,
      "order": null,
      "overflow": null,
      "overflow_x": null,
      "overflow_y": null,
      "padding": null,
      "right": null,
      "top": null,
      "visibility": null,
      "width": null
     }
    },
    "db6b101ee7424407a48257876a73f206": {
     "model_module": "@jupyter-widgets/controls",
     "model_module_version": "1.5.0",
     "model_name": "FloatProgressModel",
     "state": {
      "_dom_classes": [],
      "_model_module": "@jupyter-widgets/controls",
      "_model_module_version": "1.5.0",
      "_model_name": "FloatProgressModel",
      "_view_count": null,
      "_view_module": "@jupyter-widgets/controls",
      "_view_module_version": "1.5.0",
      "_view_name": "ProgressView",
      "bar_style": "success",
      "description": "",
      "description_tooltip": null,
      "layout": "IPY_MODEL_73d28defc042429c81262e446c6578da",
      "max": 421,
      "min": 0,
      "orientation": "horizontal",
      "style": "IPY_MODEL_142de95686974053960de93fdbddb12b",
      "value": 421
     }
    },
    "dbf207aae14e4433ad6e6daea51bfaee": {
     "model_module": "@jupyter-widgets/base",
     "model_module_version": "1.2.0",
     "model_name": "LayoutModel",
     "state": {
      "_model_module": "@jupyter-widgets/base",
      "_model_module_version": "1.2.0",
      "_model_name": "LayoutModel",
      "_view_count": null,
      "_view_module": "@jupyter-widgets/base",
      "_view_module_version": "1.2.0",
      "_view_name": "LayoutView",
      "align_content": null,
      "align_items": null,
      "align_self": null,
      "border": null,
      "bottom": null,
      "display": null,
      "flex": null,
      "flex_flow": null,
      "grid_area": null,
      "grid_auto_columns": null,
      "grid_auto_flow": null,
      "grid_auto_rows": null,
      "grid_column": null,
      "grid_gap": null,
      "grid_row": null,
      "grid_template_areas": null,
      "grid_template_columns": null,
      "grid_template_rows": null,
      "height": null,
      "justify_content": null,
      "justify_items": null,
      "left": null,
      "margin": null,
      "max_height": null,
      "max_width": null,
      "min_height": null,
      "min_width": null,
      "object_fit": null,
      "object_position": null,
      "order": null,
      "overflow": null,
      "overflow_x": null,
      "overflow_y": null,
      "padding": null,
      "right": null,
      "top": null,
      "visibility": null,
      "width": null
     }
    },
    "f5e6b9ab4198484bb908502ec0e7c193": {
     "model_module": "@jupyter-widgets/controls",
     "model_module_version": "1.5.0",
     "model_name": "HBoxModel",
     "state": {
      "_dom_classes": [],
      "_model_module": "@jupyter-widgets/controls",
      "_model_module_version": "1.5.0",
      "_model_name": "HBoxModel",
      "_view_count": null,
      "_view_module": "@jupyter-widgets/controls",
      "_view_module_version": "1.5.0",
      "_view_name": "HBoxView",
      "box_style": "",
      "children": [
       "IPY_MODEL_6c45172b8f4a454cb352e5623ebf8256",
       "IPY_MODEL_db6b101ee7424407a48257876a73f206",
       "IPY_MODEL_0244c8066ff745a382e1a292daa9573f"
      ],
      "layout": "IPY_MODEL_dbf207aae14e4433ad6e6daea51bfaee"
     }
    }
   }
  }
 },
 "nbformat": 4,
 "nbformat_minor": 5
}
